{
 "cells": [
  {
   "cell_type": "code",
   "execution_count": 206,
   "id": "c468a44f",
   "metadata": {
    "scrolled": true
   },
   "outputs": [],
   "source": [
    "import pandas as pd\n",
    "import numpy as np\n",
    "data = pd.read_csv(\"joined-weather-solar.csv\")\n",
    "data = data.dropna()\n",
    "data = data.drop(columns = \"Unnamed: 0\")\n",
    "data['Date'] = pd.to_datetime(data['Date'])\n",
    "data['year'] = data['Date'].dt.year\n",
    "data['month'] = data['Date'].dt.month\n",
    "data = data.drop(columns=['Date','Station pressure'])"
   ]
  },
  {
   "cell_type": "code",
   "execution_count": 207,
   "id": "33f51ee5",
   "metadata": {},
   "outputs": [],
   "source": [
    "from sklearn.preprocessing import MinMaxScaler\n",
    "\n",
    "independent_var = data.drop(columns = \"Site Performance Estimate\")\n",
    "dependent_var = data[\"Site Performance Estimate\"]\n",
    "\n",
    "scaler = MinMaxScaler(feature_range=(0, 1))\n",
    "independent_var = scaler.fit_transform(independent_var)"
   ]
  },
  {
   "cell_type": "code",
   "execution_count": 210,
   "id": "8b25fe64",
   "metadata": {},
   "outputs": [
    {
     "name": "stdout",
     "output_type": "stream",
     "text": [
      "0.9507078523595 1332488.3409214793\n"
     ]
    }
   ],
   "source": [
    "from sklearn.model_selection import train_test_split\n",
    "from sklearn.ensemble import AdaBoostRegressor\n",
    "from sklearn.metrics import mean_squared_error\n",
    "\n",
    "X_train, X_test, y_train, y_test = train_test_split(independent_var, dependent_var, test_size=0.2, random_state=42)\n",
    "\n",
    "\n",
    "ada = AdaBoostRegressor(n_estimators=40, random_state=42)\n",
    "ada.fit(X_train, y_train)\n",
    "\n",
    "y_pred = ada.predict(X_test)\n",
    "\n",
    "score = ada.score(X_test, y_test)\n",
    "mse = mean_squared_error(y_test, y_pred)\n",
    "\n",
    "print(score, mse)"
   ]
  }
 ],
 "metadata": {
  "kernelspec": {
   "display_name": "Python 3 (ipykernel)",
   "language": "python",
   "name": "python3"
  },
  "language_info": {
   "codemirror_mode": {
    "name": "ipython",
    "version": 3
   },
   "file_extension": ".py",
   "mimetype": "text/x-python",
   "name": "python",
   "nbconvert_exporter": "python",
   "pygments_lexer": "ipython3",
   "version": "3.11.4"
  }
 },
 "nbformat": 4,
 "nbformat_minor": 5
}
