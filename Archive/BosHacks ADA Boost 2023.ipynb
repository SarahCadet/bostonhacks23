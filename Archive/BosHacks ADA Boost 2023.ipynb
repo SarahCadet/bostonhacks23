{
 "cells": [
  {
   "cell_type": "code",
   "execution_count": 164,
   "id": "c468a44f",
   "metadata": {
    "scrolled": true
   },
   "outputs": [
    {
     "data": {
      "text/plain": [
       "Cloud coverage               float64\n",
       "Visibility                   float64\n",
       "Temperature                  float64\n",
       "Dew point                    float64\n",
       "Relative humidity            float64\n",
       "Wind speed                   float64\n",
       "Station pressure             float64\n",
       "Altimeter                    float64\n",
       "Solar energy                 float64\n",
       "Site Performance Estimate      int64\n",
       "year                           int64\n",
       "month                          int64\n",
       "dtype: object"
      ]
     },
     "execution_count": 164,
     "metadata": {},
     "output_type": "execute_result"
    }
   ],
   "source": [
    "import pandas as pd\n",
    "import numpy as np\n",
    "data = pd.read_csv(\"joined-weather-solar.csv\")\n",
    "data = data.dropna()\n",
    "data = data.drop(columns = \"Unnamed: 0\")\n",
    "data['Date'] = pd.to_datetime(data['Date'])\n",
    "data['year'] = data['Date'].dt.year\n",
    "data['month'] = data['Date'].dt.month\n",
    "data = data.drop(columns='Date')"
   ]
  },
  {
   "cell_type": "code",
   "execution_count": 168,
   "id": "33f51ee5",
   "metadata": {},
   "outputs": [],
   "source": [
    "independent_var = data.drop(columns = \"Site Performance Estimate\")\n",
    "dependent_var = data[\"Site Performance Estimate\"]"
   ]
  },
  {
   "cell_type": "code",
   "execution_count": 171,
   "id": "8b25fe64",
   "metadata": {},
   "outputs": [
    {
     "data": {
      "text/plain": [
       "0.9771988477998313"
      ]
     },
     "execution_count": 171,
     "metadata": {},
     "output_type": "execute_result"
    }
   ],
   "source": [
    "from sklearn.model_selection import train_test_split\n",
    "from sklearn.ensemble import RandomForestRegressor, AdaBoostRegressor\n",
    "\n",
    "X_train, X_test, y_train, y_test = train_test_split(independent_var, dependent_var, test_size=0.2, random_state=42)\n",
    "\n",
    "\n",
    "forestRegressor = RandomForestRegressor(random_state=42)\n",
    "forestRegressor.fit(X_train, y_train)\n",
    "\n",
    "\n",
    "ada = AdaBoostRegressor(estimator=forestRegressor, n_estimators=100, random_state=42)\n",
    "ada.fit(X_train, y_train)\n",
    "\n",
    "\n",
    "score = ada.score(X_test, y_test)\n",
    "score"
   ]
  }
 ],
 "metadata": {
  "kernelspec": {
   "display_name": "Python 3 (ipykernel)",
   "language": "python",
   "name": "python3"
  },
  "language_info": {
   "codemirror_mode": {
    "name": "ipython",
    "version": 3
   },
   "file_extension": ".py",
   "mimetype": "text/x-python",
   "name": "python",
   "nbconvert_exporter": "python",
   "pygments_lexer": "ipython3",
   "version": "3.11.4"
  }
 },
 "nbformat": 4,
 "nbformat_minor": 5
}
