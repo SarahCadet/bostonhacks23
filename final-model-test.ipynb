{
 "cells": [
  {
   "cell_type": "code",
   "execution_count": 1,
   "metadata": {},
   "outputs": [],
   "source": [
    "import pandas as pd\n",
    "from sklearn.metrics import r2_score, mean_squared_error\n",
    "from sklearn.ensemble import AdaBoostRegressor\n",
    "from sklearn.model_selection import train_test_split\n",
    "from sklearn.preprocessing import MinMaxScaler\n",
    "from sklearn.ensemble import AdaBoostRegressor, RandomForestRegressor\n",
    "import warnings\n",
    "warnings.simplefilter(action='ignore', category=FutureWarning)"
   ]
  },
  {
   "cell_type": "code",
   "execution_count": 3,
   "metadata": {},
   "outputs": [],
   "source": [
    "df = pd.read_csv(\"Data/joined-weather-solar.csv\")\n",
    "df['Date'] = pd.to_datetime(df['Date'])\n",
    "df['year'] = df['Date'].dt.year\n",
    "df['month'] = df['Date'].dt.month\n",
    "df['day'] = df['Date'].dt.month\n",
    "df = df.drop(columns=['Date','Station pressure', 'Unnamed: 0', 'Altimeter'])\n",
    "df = df.rename(columns={'Temperature':'temp',\n",
    "                        'Dew point':'dew',\n",
    "                        'Wind speed':'windspeed',\n",
    "                        'Cloud coverage': 'cloudcover',\n",
    "                        'Visibility': 'visibility',\n",
    "                        'Solar energy': 'solarenergy',\n",
    "                        'Relative humidity':'humidity'})\n",
    "X = df.drop(columns=['Site Performance Estimate'], axis=1)\n",
    "y = df['Site Performance Estimate']\n",
    "\n",
    "# Splitting the dfset into training and testing sets\n",
    "X_train, X_test, y_train, y_test = train_test_split(X, y, test_size=0.2, random_state=42)\n",
    "\n",
    "# Normalizing the df\n",
    "scaler = MinMaxScaler(feature_range=(0, 1))\n",
    "X_train = scaler.fit_transform(X_train)\n",
    "X_test = scaler.transform(X_test)"
   ]
  },
  {
   "cell_type": "code",
   "execution_count": 6,
   "metadata": {},
   "outputs": [],
   "source": [
    "# Read data from API\n",
    "vs_test = pd.read_csv(\"Archive/sample_visual_crossing_df.csv\")\n",
    "\n",
    "# Preprocess the data\n",
    "vs_test['datetime'] = pd.to_datetime(vs_test['datetime'])\n",
    "vs_test['year'] = vs_test['datetime'].dt.year\n",
    "vs_test['month'] = vs_test['datetime'].dt.month\n",
    "vs_test['day'] = vs_test['datetime'].dt.day\n",
    "vs_test = vs_test.drop(columns=['datetime', 'name'])\n",
    "\n",
    "# Reorder column and MinMaxScaler\n",
    "vs_test = vs_test[['cloudcover', 'visibility', 'temp', 'dew', 'humidity', 'windspeed',\n",
    "       'solarenergy', 'year', 'month', 'day']]\n",
    "vs_test = scaler.transform(vs_test)"
   ]
  },
  {
   "cell_type": "code",
   "execution_count": 7,
   "metadata": {},
   "outputs": [],
   "source": [
    "# Predict using AdaBoosting\n",
    "final_ada = AdaBoostRegressor(base_estimator=None, \n",
    "                              learning_rate=0.5, \n",
    "                              n_estimators=150,\n",
    "                              random_state=42)\n",
    "result = final_ada.fit(X_train, y_train)\n",
    "\n",
    "# Final prediction\n",
    "vs_pred = result.predict(vs_test)"
   ]
  },
  {
   "cell_type": "code",
   "execution_count": 8,
   "metadata": {},
   "outputs": [],
   "source": [
    "vs_output = pd.read_csv(\"Archive/sample_visual_crossing_df.csv\")\n",
    "vs_output['predicted_solar'] = vs_pred\n",
    "vs_output.to_csv(\"sample_output.csv\")"
   ]
  }
 ],
 "metadata": {
  "kernelspec": {
   "display_name": "base",
   "language": "python",
   "name": "python3"
  },
  "language_info": {
   "codemirror_mode": {
    "name": "ipython",
    "version": 3
   },
   "file_extension": ".py",
   "mimetype": "text/x-python",
   "name": "python",
   "nbconvert_exporter": "python",
   "pygments_lexer": "ipython3",
   "version": "3.11.5"
  }
 },
 "nbformat": 4,
 "nbformat_minor": 2
}
