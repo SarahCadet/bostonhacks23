{
 "cells": [
  {
   "cell_type": "code",
   "execution_count": 11,
   "metadata": {},
   "outputs": [],
   "source": [
    "import pandas as pd\n",
    "from sklearn.metrics import r2_score, mean_squared_error\n",
    "from sklearn.ensemble import AdaBoostRegressor\n",
    "from sklearn.model_selection import train_test_split\n",
    "from sklearn.preprocessing import MinMaxScaler\n",
    "from sklearn.ensemble import AdaBoostRegressor, RandomForestRegressor\n",
    "import warnings\n",
    "warnings.simplefilter(action='ignore', category=FutureWarning)"
   ]
  },
  {
   "cell_type": "code",
   "execution_count": 20,
   "metadata": {},
   "outputs": [],
   "source": [
    "df = pd.read_csv(\"joined-weather-solar.csv\")\n",
    "df['Date'] = pd.to_datetime(df['Date'])\n",
    "df['year'] = df['Date'].dt.year\n",
    "df['month'] = df['Date'].dt.month\n",
    "df['day'] = df['Date'].dt.month\n",
    "df = df.drop(columns=['Date','Station pressure', 'Unnamed: 0', 'Altimeter'])\n",
    "df = df.rename(columns={'Temperature':'temp',\n",
    "                        'Dew point':'dew',\n",
    "                        'Wind speed':'windspeed',\n",
    "                        'Cloud coverage': 'cloudcover',\n",
    "                        'Visibility': 'visibility',\n",
    "                        'Solar energy': 'solarenergy',\n",
    "                        'Relative humidity':'humidity'})\n",
    "X = df.drop(columns=['Site Performance Estimate'], axis=1)\n",
    "y = df['Site Performance Estimate']\n",
    "\n",
    "# Splitting the dfset into training and testing sets\n",
    "X_train, X_test, y_train, y_test = train_test_split(X, y, test_size=0.2, random_state=42)\n",
    "\n",
    "# Normalizing the df\n",
    "scaler = MinMaxScaler(feature_range=(0, 1))\n",
    "X_train = scaler.fit_transform(X_train)\n",
    "X_test = scaler.transform(X_test)"
   ]
  },
  {
   "cell_type": "code",
   "execution_count": 21,
   "metadata": {},
   "outputs": [],
   "source": [
    "# Read data from API\n",
    "vs_test = pd.read_csv(\"sample_visual_crossing_df.csv\")\n",
    "\n",
    "# Preprocess the data\n",
    "vs_test['datetime'] = pd.to_datetime(vs_test['datetime'])\n",
    "vs_test['year'] = vs_test['datetime'].dt.year\n",
    "vs_test['month'] = vs_test['datetime'].dt.month\n",
    "vs_test['day'] = vs_test['datetime'].dt.day\n",
    "vs_test = vs_test.drop(columns=['datetime', 'name'])\n",
    "\n",
    "# Reorder column and MinMaxScaler\n",
    "vs_test = vs_test[['cloudcover', 'visibility', 'temp', 'dew', 'humidity', 'windspeed',\n",
    "       'solarenergy', 'year', 'month', 'day']]\n",
    "vs_test = scaler.transform(vs_test)"
   ]
  },
  {
   "cell_type": "code",
   "execution_count": 22,
   "metadata": {},
   "outputs": [],
   "source": [
    "# Predict using AdaBoosting\n",
    "final_ada = AdaBoostRegressor(base_estimator=None, \n",
    "                              learning_rate=0.5, \n",
    "                              n_estimators=150,\n",
    "                              random_state=42)\n",
    "result = final_ada.fit(X_train, y_train)\n",
    "\n",
    "# Final prediction\n",
    "vs_pred = result.predict(vs_test)"
   ]
  },
  {
   "cell_type": "code",
   "execution_count": 29,
   "metadata": {},
   "outputs": [
    {
     "ename": "FileNotFoundError",
     "evalue": "[Errno 2] No such file or directory: 'Data/sample_visual_crossing_df.csv'",
     "output_type": "error",
     "traceback": [
      "\u001b[1;31m---------------------------------------------------------------------------\u001b[0m",
      "\u001b[1;31mFileNotFoundError\u001b[0m                         Traceback (most recent call last)",
      "\u001b[1;32mc:\\Users\\pnhua\\OneDrive\\Documents\\Side Projects\\bostonhacks23\\final-model-test.ipynb Cell 5\u001b[0m line \u001b[0;36m1\n\u001b[1;32m----> <a href='vscode-notebook-cell:/c%3A/Users/pnhua/OneDrive/Documents/Side%20Projects/bostonhacks23/final-model-test.ipynb#X10sZmlsZQ%3D%3D?line=0'>1</a>\u001b[0m vs_output \u001b[39m=\u001b[39m pd\u001b[39m.\u001b[39;49mread_csv(\u001b[39m\"\u001b[39;49m\u001b[39mData/sample_visual_crossing_df.csv\u001b[39;49m\u001b[39m\"\u001b[39;49m)\n\u001b[0;32m      <a href='vscode-notebook-cell:/c%3A/Users/pnhua/OneDrive/Documents/Side%20Projects/bostonhacks23/final-model-test.ipynb#X10sZmlsZQ%3D%3D?line=1'>2</a>\u001b[0m vs_output[\u001b[39m'\u001b[39m\u001b[39mpredicted_solar\u001b[39m\u001b[39m'\u001b[39m] \u001b[39m=\u001b[39m vs_pred\n\u001b[0;32m      <a href='vscode-notebook-cell:/c%3A/Users/pnhua/OneDrive/Documents/Side%20Projects/bostonhacks23/final-model-test.ipynb#X10sZmlsZQ%3D%3D?line=2'>3</a>\u001b[0m vs_output\u001b[39m.\u001b[39mto_csv(\u001b[39m\"\u001b[39m\u001b[39msample_output.csv\u001b[39m\u001b[39m\"\u001b[39m)\n",
      "File \u001b[1;32mc:\\Users\\pnhua\\anaconda3\\Lib\\site-packages\\pandas\\io\\parsers\\readers.py:948\u001b[0m, in \u001b[0;36mread_csv\u001b[1;34m(filepath_or_buffer, sep, delimiter, header, names, index_col, usecols, dtype, engine, converters, true_values, false_values, skipinitialspace, skiprows, skipfooter, nrows, na_values, keep_default_na, na_filter, verbose, skip_blank_lines, parse_dates, infer_datetime_format, keep_date_col, date_parser, date_format, dayfirst, cache_dates, iterator, chunksize, compression, thousands, decimal, lineterminator, quotechar, quoting, doublequote, escapechar, comment, encoding, encoding_errors, dialect, on_bad_lines, delim_whitespace, low_memory, memory_map, float_precision, storage_options, dtype_backend)\u001b[0m\n\u001b[0;32m    935\u001b[0m kwds_defaults \u001b[39m=\u001b[39m _refine_defaults_read(\n\u001b[0;32m    936\u001b[0m     dialect,\n\u001b[0;32m    937\u001b[0m     delimiter,\n\u001b[1;32m   (...)\u001b[0m\n\u001b[0;32m    944\u001b[0m     dtype_backend\u001b[39m=\u001b[39mdtype_backend,\n\u001b[0;32m    945\u001b[0m )\n\u001b[0;32m    946\u001b[0m kwds\u001b[39m.\u001b[39mupdate(kwds_defaults)\n\u001b[1;32m--> 948\u001b[0m \u001b[39mreturn\u001b[39;00m _read(filepath_or_buffer, kwds)\n",
      "File \u001b[1;32mc:\\Users\\pnhua\\anaconda3\\Lib\\site-packages\\pandas\\io\\parsers\\readers.py:611\u001b[0m, in \u001b[0;36m_read\u001b[1;34m(filepath_or_buffer, kwds)\u001b[0m\n\u001b[0;32m    608\u001b[0m _validate_names(kwds\u001b[39m.\u001b[39mget(\u001b[39m\"\u001b[39m\u001b[39mnames\u001b[39m\u001b[39m\"\u001b[39m, \u001b[39mNone\u001b[39;00m))\n\u001b[0;32m    610\u001b[0m \u001b[39m# Create the parser.\u001b[39;00m\n\u001b[1;32m--> 611\u001b[0m parser \u001b[39m=\u001b[39m TextFileReader(filepath_or_buffer, \u001b[39m*\u001b[39;49m\u001b[39m*\u001b[39;49mkwds)\n\u001b[0;32m    613\u001b[0m \u001b[39mif\u001b[39;00m chunksize \u001b[39mor\u001b[39;00m iterator:\n\u001b[0;32m    614\u001b[0m     \u001b[39mreturn\u001b[39;00m parser\n",
      "File \u001b[1;32mc:\\Users\\pnhua\\anaconda3\\Lib\\site-packages\\pandas\\io\\parsers\\readers.py:1448\u001b[0m, in \u001b[0;36mTextFileReader.__init__\u001b[1;34m(self, f, engine, **kwds)\u001b[0m\n\u001b[0;32m   1445\u001b[0m     \u001b[39mself\u001b[39m\u001b[39m.\u001b[39moptions[\u001b[39m\"\u001b[39m\u001b[39mhas_index_names\u001b[39m\u001b[39m\"\u001b[39m] \u001b[39m=\u001b[39m kwds[\u001b[39m\"\u001b[39m\u001b[39mhas_index_names\u001b[39m\u001b[39m\"\u001b[39m]\n\u001b[0;32m   1447\u001b[0m \u001b[39mself\u001b[39m\u001b[39m.\u001b[39mhandles: IOHandles \u001b[39m|\u001b[39m \u001b[39mNone\u001b[39;00m \u001b[39m=\u001b[39m \u001b[39mNone\u001b[39;00m\n\u001b[1;32m-> 1448\u001b[0m \u001b[39mself\u001b[39m\u001b[39m.\u001b[39m_engine \u001b[39m=\u001b[39m \u001b[39mself\u001b[39;49m\u001b[39m.\u001b[39;49m_make_engine(f, \u001b[39mself\u001b[39;49m\u001b[39m.\u001b[39;49mengine)\n",
      "File \u001b[1;32mc:\\Users\\pnhua\\anaconda3\\Lib\\site-packages\\pandas\\io\\parsers\\readers.py:1705\u001b[0m, in \u001b[0;36mTextFileReader._make_engine\u001b[1;34m(self, f, engine)\u001b[0m\n\u001b[0;32m   1703\u001b[0m     \u001b[39mif\u001b[39;00m \u001b[39m\"\u001b[39m\u001b[39mb\u001b[39m\u001b[39m\"\u001b[39m \u001b[39mnot\u001b[39;00m \u001b[39min\u001b[39;00m mode:\n\u001b[0;32m   1704\u001b[0m         mode \u001b[39m+\u001b[39m\u001b[39m=\u001b[39m \u001b[39m\"\u001b[39m\u001b[39mb\u001b[39m\u001b[39m\"\u001b[39m\n\u001b[1;32m-> 1705\u001b[0m \u001b[39mself\u001b[39m\u001b[39m.\u001b[39mhandles \u001b[39m=\u001b[39m get_handle(\n\u001b[0;32m   1706\u001b[0m     f,\n\u001b[0;32m   1707\u001b[0m     mode,\n\u001b[0;32m   1708\u001b[0m     encoding\u001b[39m=\u001b[39;49m\u001b[39mself\u001b[39;49m\u001b[39m.\u001b[39;49moptions\u001b[39m.\u001b[39;49mget(\u001b[39m\"\u001b[39;49m\u001b[39mencoding\u001b[39;49m\u001b[39m\"\u001b[39;49m, \u001b[39mNone\u001b[39;49;00m),\n\u001b[0;32m   1709\u001b[0m     compression\u001b[39m=\u001b[39;49m\u001b[39mself\u001b[39;49m\u001b[39m.\u001b[39;49moptions\u001b[39m.\u001b[39;49mget(\u001b[39m\"\u001b[39;49m\u001b[39mcompression\u001b[39;49m\u001b[39m\"\u001b[39;49m, \u001b[39mNone\u001b[39;49;00m),\n\u001b[0;32m   1710\u001b[0m     memory_map\u001b[39m=\u001b[39;49m\u001b[39mself\u001b[39;49m\u001b[39m.\u001b[39;49moptions\u001b[39m.\u001b[39;49mget(\u001b[39m\"\u001b[39;49m\u001b[39mmemory_map\u001b[39;49m\u001b[39m\"\u001b[39;49m, \u001b[39mFalse\u001b[39;49;00m),\n\u001b[0;32m   1711\u001b[0m     is_text\u001b[39m=\u001b[39;49mis_text,\n\u001b[0;32m   1712\u001b[0m     errors\u001b[39m=\u001b[39;49m\u001b[39mself\u001b[39;49m\u001b[39m.\u001b[39;49moptions\u001b[39m.\u001b[39;49mget(\u001b[39m\"\u001b[39;49m\u001b[39mencoding_errors\u001b[39;49m\u001b[39m\"\u001b[39;49m, \u001b[39m\"\u001b[39;49m\u001b[39mstrict\u001b[39;49m\u001b[39m\"\u001b[39;49m),\n\u001b[0;32m   1713\u001b[0m     storage_options\u001b[39m=\u001b[39;49m\u001b[39mself\u001b[39;49m\u001b[39m.\u001b[39;49moptions\u001b[39m.\u001b[39;49mget(\u001b[39m\"\u001b[39;49m\u001b[39mstorage_options\u001b[39;49m\u001b[39m\"\u001b[39;49m, \u001b[39mNone\u001b[39;49;00m),\n\u001b[0;32m   1714\u001b[0m )\n\u001b[0;32m   1715\u001b[0m \u001b[39massert\u001b[39;00m \u001b[39mself\u001b[39m\u001b[39m.\u001b[39mhandles \u001b[39mis\u001b[39;00m \u001b[39mnot\u001b[39;00m \u001b[39mNone\u001b[39;00m\n\u001b[0;32m   1716\u001b[0m f \u001b[39m=\u001b[39m \u001b[39mself\u001b[39m\u001b[39m.\u001b[39mhandles\u001b[39m.\u001b[39mhandle\n",
      "File \u001b[1;32mc:\\Users\\pnhua\\anaconda3\\Lib\\site-packages\\pandas\\io\\common.py:863\u001b[0m, in \u001b[0;36mget_handle\u001b[1;34m(path_or_buf, mode, encoding, compression, memory_map, is_text, errors, storage_options)\u001b[0m\n\u001b[0;32m    858\u001b[0m \u001b[39melif\u001b[39;00m \u001b[39misinstance\u001b[39m(handle, \u001b[39mstr\u001b[39m):\n\u001b[0;32m    859\u001b[0m     \u001b[39m# Check whether the filename is to be opened in binary mode.\u001b[39;00m\n\u001b[0;32m    860\u001b[0m     \u001b[39m# Binary mode does not support 'encoding' and 'newline'.\u001b[39;00m\n\u001b[0;32m    861\u001b[0m     \u001b[39mif\u001b[39;00m ioargs\u001b[39m.\u001b[39mencoding \u001b[39mand\u001b[39;00m \u001b[39m\"\u001b[39m\u001b[39mb\u001b[39m\u001b[39m\"\u001b[39m \u001b[39mnot\u001b[39;00m \u001b[39min\u001b[39;00m ioargs\u001b[39m.\u001b[39mmode:\n\u001b[0;32m    862\u001b[0m         \u001b[39m# Encoding\u001b[39;00m\n\u001b[1;32m--> 863\u001b[0m         handle \u001b[39m=\u001b[39m \u001b[39mopen\u001b[39m(\n\u001b[0;32m    864\u001b[0m             handle,\n\u001b[0;32m    865\u001b[0m             ioargs\u001b[39m.\u001b[39mmode,\n\u001b[0;32m    866\u001b[0m             encoding\u001b[39m=\u001b[39mioargs\u001b[39m.\u001b[39mencoding,\n\u001b[0;32m    867\u001b[0m             errors\u001b[39m=\u001b[39merrors,\n\u001b[0;32m    868\u001b[0m             newline\u001b[39m=\u001b[39m\u001b[39m\"\u001b[39m\u001b[39m\"\u001b[39m,\n\u001b[0;32m    869\u001b[0m         )\n\u001b[0;32m    870\u001b[0m     \u001b[39melse\u001b[39;00m:\n\u001b[0;32m    871\u001b[0m         \u001b[39m# Binary mode\u001b[39;00m\n\u001b[0;32m    872\u001b[0m         handle \u001b[39m=\u001b[39m \u001b[39mopen\u001b[39m(handle, ioargs\u001b[39m.\u001b[39mmode)\n",
      "\u001b[1;31mFileNotFoundError\u001b[0m: [Errno 2] No such file or directory: 'Data/sample_visual_crossing_df.csv'"
     ]
    }
   ],
   "source": [
    "vs_output = pd.read_csv(\"Data/sample_visual_crossing_df.csv\")\n",
    "vs_output['predicted_solar'] = vs_pred\n",
    "vs_output.to_csv(\"sample_output.csv\")"
   ]
  },
  {
   "cell_type": "code",
   "execution_count": 27,
   "metadata": {},
   "outputs": [
    {
     "data": {
      "text/plain": [
       "array([[ 4.81000000e+01,  1.68926554e+00,  6.17598098e-01,\n",
       "         5.13437719e-01,  5.13707572e-01,  1.04495798e+00,\n",
       "        -1.44308584e-02,  7.00000000e+00,  9.09090909e-01,\n",
       "         1.54545455e+00],\n",
       "       [ 9.00000000e+00,  1.70056497e+00,  5.08204518e-01,\n",
       "         3.98924982e-01,  4.62793734e-01,  8.18067227e-01,\n",
       "        -1.43527039e-02,  7.00000000e+00,  9.09090909e-01,\n",
       "         1.63636364e+00],\n",
       "       [ 2.67000000e+01,  1.71186441e+00,  4.46373365e-01,\n",
       "         3.10119187e-01,  4.00130548e-01,  7.29831933e-01,\n",
       "        -1.43678306e-02,  7.00000000e+00,  9.09090909e-01,\n",
       "         1.72727273e+00],\n",
       "       [ 7.36000000e+01,  1.65536723e+00,  4.82045184e-01,\n",
       "         4.17620939e-01,  5.63315927e-01,  1.52815126e+00,\n",
       "        -1.45190974e-02,  7.00000000e+00,  9.09090909e-01,\n",
       "         1.81818182e+00],\n",
       "       [ 6.91000000e+01,  2.07344633e+00,  6.00951249e-01,\n",
       "         6.11591493e-01,  8.02219321e-01,  1.34747899e+00,\n",
       "        -1.45569142e-02,  7.00000000e+00,  9.09090909e-01,\n",
       "         1.90909091e+00],\n",
       "       [ 4.01000000e+01,  2.07344633e+00,  5.05826397e-01,\n",
       "         4.71371816e-01,  6.45561358e-01,  9.39915966e-01,\n",
       "        -1.45569142e-02,  7.00000000e+00,  9.09090909e-01,\n",
       "         2.00000000e+00],\n",
       "       [ 3.02000000e+01,  2.34463277e+00,  4.70154578e-01,\n",
       "         4.03598972e-01,  5.52872063e-01,  9.56722689e-01,\n",
       "        -1.45392664e-02,  7.00000000e+00,  9.09090909e-01,\n",
       "         2.09090909e+00],\n",
       "       [ 5.84000000e+01,  2.59322034e+00,  4.60642093e-01,\n",
       "         4.12946950e-01,  6.02480418e-01,  7.29831933e-01,\n",
       "        -1.44459851e-02,  7.00000000e+00,  9.09090909e-01,\n",
       "         2.18181818e+00],\n",
       "       [ 6.00000000e+01,  2.54802260e+00,  4.46373365e-01,\n",
       "         3.14793176e-01,  4.15796345e-01,  6.66806723e-01,\n",
       "        -1.43829573e-02,  7.00000000e+00,  9.09090909e-01,\n",
       "         2.27272727e+00],\n",
       "       [ 9.71000000e+01,  2.54237288e-01,  3.96432818e-01,\n",
       "         4.57349848e-01,  9.34073107e-01,  6.07983193e-01,\n",
       "        -1.46098576e-02,  7.00000000e+00,  9.09090909e-01,\n",
       "         2.36363636e+00],\n",
       "       [ 5.80000000e+00,  2.59322034e+00,  4.34482759e-01,\n",
       "         3.89577004e-01,  6.10313316e-01,  6.20588235e-01,\n",
       "        -1.43804362e-02,  7.00000000e+00,  9.09090909e-01,\n",
       "         2.45454545e+00],\n",
       "       [ 5.16000000e+01,  2.59322034e+00,  4.77288942e-01,\n",
       "         4.15283945e-01,  5.69843342e-01,  6.83613445e-01,\n",
       "        -1.44106895e-02,  7.00000000e+00,  9.09090909e-01,\n",
       "         2.54545455e+00],\n",
       "       [ 8.81000000e+01,  2.59322034e+00,  4.96313912e-01,\n",
       "         4.40990886e-01,  5.97258486e-01,  8.47478992e-01,\n",
       "        -1.45367452e-02,  7.00000000e+00,  9.09090909e-01,\n",
       "         2.63636364e+00],\n",
       "       [ 3.59000000e+01,  2.33333333e+00,  3.72651605e-01,\n",
       "         2.51694321e-01,  4.17101828e-01,  9.23109244e-01,\n",
       "        -1.43980840e-02,  7.00000000e+00,  1.00000000e+00,\n",
       "         0.00000000e+00],\n",
       "       [ 3.92000000e+01,  2.31073446e+00,  3.39357907e-01,\n",
       "         1.86258472e-01,  3.53133159e-01,  9.56722689e-01,\n",
       "        -1.43753939e-02,  7.00000000e+00,  1.00000000e+00,\n",
       "         9.09090909e-02]])"
      ]
     },
     "execution_count": 27,
     "metadata": {},
     "output_type": "execute_result"
    }
   ],
   "source": [
    "vs_test"
   ]
  }
 ],
 "metadata": {
  "kernelspec": {
   "display_name": "base",
   "language": "python",
   "name": "python3"
  },
  "language_info": {
   "codemirror_mode": {
    "name": "ipython",
    "version": 3
   },
   "file_extension": ".py",
   "mimetype": "text/x-python",
   "name": "python",
   "nbconvert_exporter": "python",
   "pygments_lexer": "ipython3",
   "version": "3.11.5"
  }
 },
 "nbformat": 4,
 "nbformat_minor": 2
}
