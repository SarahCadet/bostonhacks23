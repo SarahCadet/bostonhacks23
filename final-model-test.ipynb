{
 "cells": [
  {
   "cell_type": "code",
   "execution_count": null,
   "metadata": {},
   "outputs": [],
   "source": [
    "import pandas as pd\n",
    "from sklearn.metrics import r2_score, mean_squared_error\n",
    "from sklearn.ensemble import AdaBoostRegressor\n",
    "import warnings\n",
    "warnings.simplefilter(action='ignore', category=FutureWarning)\n",
    "\n",
    "# Read data from API\n",
    "vs_test = pd.read_csv(\"sample_visual_crossing_df.csv\")\n",
    "\n",
    "# Preprocess the data\n",
    "vs_test['datetime'] = pd.to_datetime(vs_test['datetime'])\n",
    "vs_test['year'] = vs_test['datetime'].dt.year\n",
    "vs_test['month'] = vs_test['datetime'].dt.month\n",
    "vs_test = vs_test.drop(columns=['datetime', 'name'])\n",
    "\n",
    "# Predict using AdaBoosting\n",
    "final_ada = AdaBoostRegressor(base_estimator=None, \n",
    "                              learning_rate=0.5, \n",
    "                              n_estimators=150,\n",
    "                              random_state=42)\n",
    "\n",
    "# Final prediction\n",
    "vs_pred = final_ada.predict(vs_test)"
   ]
  }
 ],
 "metadata": {
  "language_info": {
   "name": "python"
  }
 },
 "nbformat": 4,
 "nbformat_minor": 2
}
